{
 "cells": [
  {
   "cell_type": "markdown",
   "metadata": {},
   "source": [
    "# Kata Exercises 6"
   ]
  },
  {
   "cell_type": "code",
   "execution_count": 4,
   "metadata": {},
   "outputs": [
    {
     "name": "stdout",
     "output_type": "stream",
     "text": [
      "El número de planetas es: 9 y el último elemento es: Pluto\n"
     ]
    }
   ],
   "source": [
    "planets = ['Mercury', 'Venus', 'Earth', 'Mars', 'Jupiter', 'Saturn', 'Uranus', 'Neptune']\n",
    "#added pluto\n",
    "planets.append('Pluto')\n",
    "print(f'El número de planetas es: {len(planets)} y el último elemento es: {planets[-1]}');"
   ]
  },
  {
   "cell_type": "code",
   "execution_count": 10,
   "metadata": {},
   "outputs": [
    {
     "name": "stdout",
     "output_type": "stream",
     "text": [
      "Los planetas más cercanos al sol que Mars son: ['Mercury', 'Venus', 'Earth']\n",
      "Los planetas más lejanos al sol que Mars son: ['Jupiter', 'Saturn', 'Neptune']\n"
     ]
    }
   ],
   "source": [
    "# Lista de planetas\n",
    "planets = ['Mercury', 'Venus', 'Earth', 'Mars', 'Jupiter', 'Saturn', 'Neptune']\n",
    "#insertar nombre\n",
    "planet_user = input('inserta el nombre de un planeta, iniciando por mayúscula')\n",
    "planet_index = planets.index(planet_user)\n",
    "\n",
    "print(f'Los planetas más cercanos al sol que {planets[planet_index]} son: {planets[0:planet_index]}')\n",
    "\n",
    "print(f'Los planetas más lejanos al sol que {planets[planet_index]} son: {planets[planet_index+1:]}')"
   ]
  }
 ],
 "metadata": {
  "interpreter": {
   "hash": "f986549fd88128ea9bd7534bf159cbf2f86de827b333aae9b4987b46538842bd"
  },
  "kernelspec": {
   "display_name": "Python 3.10.2 64-bit",
   "language": "python",
   "name": "python3"
  },
  "language_info": {
   "codemirror_mode": {
    "name": "ipython",
    "version": 3
   },
   "file_extension": ".py",
   "mimetype": "text/x-python",
   "name": "python",
   "nbconvert_exporter": "python",
   "pygments_lexer": "ipython3",
   "version": "3.10.2"
  },
  "orig_nbformat": 4
 },
 "nbformat": 4,
 "nbformat_minor": 2
}
