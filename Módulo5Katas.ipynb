{
 "cells": [
  {
   "cell_type": "markdown",
   "metadata": {},
   "source": [
    "# Kata Exercises 5"
   ]
  },
  {
   "cell_type": "code",
   "execution_count": 8,
   "metadata": {},
   "outputs": [
    {
     "name": "stdout",
     "output_type": "stream",
     "text": [
      "la distancia entre la tierra y jupiter es 628949330\n",
      "la distancia entre la tierra y jupiteren millas es 390577533.93\n"
     ]
    }
   ],
   "source": [
    "distancia_tierra = 149597870    #km\n",
    "distancia_jupiter = 778547200   #km\n",
    "\n",
    "print(f'la distancia entre la tierra y jupiter es {str(distancia_jupiter -distancia_tierra)}')\n",
    "print(f'la distancia entre la tierra y jupiteren millas es {str((distancia_jupiter -distancia_tierra)*0.621)}')\n"
   ]
  },
  {
   "cell_type": "code",
   "execution_count": 10,
   "metadata": {},
   "outputs": [
    {
     "name": "stdout",
     "output_type": "stream",
     "text": [
      "la distancia entre el planeta1 y planeta2 es 50300000\n",
      "la distancia entre la tierra y jupiteren millas es 31236300.0\n"
     ]
    }
   ],
   "source": [
    "### ejercicio 2\n",
    "\n",
    "planeta1 = int(input('ingresa la distancia del planeta 1'))\n",
    "planeta2 = int(input('ingresa la distancia del planeta 2'))\n",
    "\n",
    "print(f'la distancia entre el planeta1 y planeta2 es {str(abs(planeta1 -planeta2))}')\n",
    "print(f'la distancia entre la tierra y jupiteren millas es {str(abs((planeta1 -planeta2)*0.621))}')\n"
   ]
  }
 ],
 "metadata": {
  "interpreter": {
   "hash": "f986549fd88128ea9bd7534bf159cbf2f86de827b333aae9b4987b46538842bd"
  },
  "kernelspec": {
   "display_name": "Python 3.10.2 64-bit",
   "language": "python",
   "name": "python3"
  },
  "language_info": {
   "codemirror_mode": {
    "name": "ipython",
    "version": 3
   },
   "file_extension": ".py",
   "mimetype": "text/x-python",
   "name": "python",
   "nbconvert_exporter": "python",
   "pygments_lexer": "ipython3",
   "version": "3.10.2"
  },
  "orig_nbformat": 4
 },
 "nbformat": 4,
 "nbformat_minor": 2
}
