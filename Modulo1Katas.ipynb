{
 "cells": [
  {
   "cell_type": "markdown",
   "metadata": {},
   "source": [
    "# Kata Exercises 1"
   ]
  },
  {
   "cell_type": "code",
   "execution_count": 2,
   "metadata": {},
   "outputs": [
    {
     "data": {
      "application/vnd.jupyter.widget-view+json": {
       "model_id": "78e13be41e86483c8f2e5359d3de7509",
       "version_major": 2,
       "version_minor": 0
      },
      "text/plain": [
       "ToggleButton(value=False, button_style='primary', description='Mostrar Fecha', icon='calendar', tooltip='Engag…"
      ]
     },
     "metadata": {},
     "output_type": "display_data"
    },
    {
     "data": {
      "application/vnd.jupyter.widget-view+json": {
       "model_id": "518d01d00a3c4470884c7cb4031efb97",
       "version_major": 2,
       "version_minor": 0
      },
      "text/plain": [
       "Output()"
      ]
     },
     "metadata": {},
     "output_type": "display_data"
    }
   ],
   "source": [
    "## Button showing the date\n",
    "\n",
    "import ipywidgets as widgets\n",
    "from datetime import date\n",
    "button = widgets.ToggleButton(\n",
    "    value=False,\n",
    "    description='Mostrar Fecha',\n",
    "    button_style='primary',\n",
    "    tooltip='Engage your Launch',\n",
    "    icon='calendar'\n",
    ")\n",
    "output = widgets.Output()\n",
    "display(button, output)\n",
    "def on_value_change(change):\n",
    "    with output:\n",
    "        print(\"la fecha de hoy es: \"+str(date.today()))\n",
    "button.observe(on_value_change, names='value')"
   ]
  },
  {
   "cell_type": "code",
   "execution_count": 3,
   "metadata": {},
   "outputs": [
    {
     "name": "stdout",
     "output_type": "stream",
     "text": [
      "100 parsec, is 326.156 lightyears\n"
     ]
    }
   ],
   "source": [
    "## Convert parsec to lightyears\n",
    "\n",
    "parsec = input(\"Introduzca los parsec a convertir\")\n",
    "lightyears = float(parsec) * 3.26156\n",
    "print(str(parsec) + \" parsec, is \" + str(lightyears) + \" lightyears\")"
   ]
  }
 ],
 "metadata": {
  "interpreter": {
   "hash": "f986549fd88128ea9bd7534bf159cbf2f86de827b333aae9b4987b46538842bd"
  },
  "kernelspec": {
   "display_name": "Python 3.10.2 64-bit",
   "language": "python",
   "name": "python3"
  },
  "language_info": {
   "codemirror_mode": {
    "name": "ipython",
    "version": 3
   },
   "file_extension": ".py",
   "mimetype": "text/x-python",
   "name": "python",
   "nbconvert_exporter": "python",
   "pygments_lexer": "ipython3",
   "version": "3.10.2"
  },
  "orig_nbformat": 4
 },
 "nbformat": 4,
 "nbformat_minor": 2
}
