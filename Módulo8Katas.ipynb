{
 "cells": [
  {
   "cell_type": "markdown",
   "metadata": {},
   "source": [
    "# Kata Exercises 8"
   ]
  },
  {
   "cell_type": "code",
   "execution_count": 7,
   "metadata": {},
   "outputs": [
    {
     "name": "stdout",
     "output_type": "stream",
     "text": [
      "El planeta Mars tiene 2 lunas\n",
      "El planeta Mars tiene 2 lunas, y su circunferencia polar es de 6752\n"
     ]
    }
   ],
   "source": [
    "\n",
    "planet = {\n",
    "    'name' : 'Mars',\n",
    "    'mons' : 2\n",
    "}\n",
    "\n",
    "print(f\"El planeta {planet.get('name')} tiene {planet.get('mons')} lunas\")\n",
    "\n",
    "planet['circunferencia(km)'] = {\n",
    "    'polar': 6752,\n",
    "    'equatorial': 6792\n",
    "}\n",
    "\n",
    "print(f\"El planeta {planet.get('name')} tiene {planet.get('mons')} lunas, y su circunferencia polar es de {planet.get('circunferencia(km)').get('polar')}\")"
   ]
  },
  {
   "cell_type": "code",
   "execution_count": 10,
   "metadata": {},
   "outputs": [
    {
     "name": "stdout",
     "output_type": "stream",
     "text": [
      "el total de lunas es: 214\n"
     ]
    }
   ],
   "source": [
    "# Planets and moons\n",
    "\n",
    "planet_moons = {\n",
    "    'mercury': 0,\n",
    "    'venus': 0,\n",
    "    'earth': 1,\n",
    "    'mars': 2,\n",
    "    'jupiter': 79,\n",
    "    'saturn': 82,\n",
    "    'uranus': 27,\n",
    "    'neptune': 14,\n",
    "    'pluto': 5,\n",
    "    'haumea': 2,\n",
    "    'makemake': 1,\n",
    "    'eris': 1\n",
    "}\n",
    "\n",
    "mons = 0\n",
    "\n",
    "for value in planet_moons.values():\n",
    "    mons+=value\n",
    "\n",
    "print('el total de lunas es:',str(mons))"
   ]
  }
 ],
 "metadata": {
  "interpreter": {
   "hash": "f986549fd88128ea9bd7534bf159cbf2f86de827b333aae9b4987b46538842bd"
  },
  "kernelspec": {
   "display_name": "Python 3.10.2 64-bit",
   "language": "python",
   "name": "python3"
  },
  "language_info": {
   "codemirror_mode": {
    "name": "ipython",
    "version": 3
   },
   "file_extension": ".py",
   "mimetype": "text/x-python",
   "name": "python",
   "nbconvert_exporter": "python",
   "pygments_lexer": "ipython3",
   "version": "3.10.2"
  },
  "orig_nbformat": 4
 },
 "nbformat": 4,
 "nbformat_minor": 2
}
