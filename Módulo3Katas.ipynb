{
 "cells": [
  {
   "cell_type": "markdown",
   "metadata": {},
   "source": [
    "# Kata Exercises 3"
   ]
  },
  {
   "cell_type": "code",
   "execution_count": 3,
   "metadata": {},
   "outputs": [
    {
     "name": "stdout",
     "output_type": "stream",
     "text": [
      "cuidado con el asteroide, viene demasiado ráido\n"
     ]
    }
   ],
   "source": [
    "## check how safe the speed of the asteroid is\n",
    "\n",
    "velocidad_asteroide = 49\n",
    "velocidad_segura = 25\n",
    "\n",
    "if velocidad_asteroide >= velocidad_segura:\n",
    "    print('cuidado con el asteroide, viene demasiado ráido')\n",
    "else:\n",
    "    print('El asteroide no representa peligro')   \n",
    " "
   ]
  },
  {
   "cell_type": "code",
   "execution_count": 4,
   "metadata": {},
   "outputs": [
    {
     "name": "stdout",
     "output_type": "stream",
     "text": [
      "hay un asteroide, pero sin rastro\n"
     ]
    }
   ],
   "source": [
    "## check lights in the sky\n",
    "\n",
    "velocidad_asteroide = 19\n",
    "produce_luz = 20\n",
    "\n",
    "if velocidad_asteroide >= produce_luz:\n",
    "    print('Observa la luz del asteroide')\n",
    "elif velocidad_asteroide < produce_luz:\n",
    "    print('hay un asteroide, pero sin rastro')"
   ]
  },
  {
   "cell_type": "code",
   "execution_count": 7,
   "metadata": {},
   "outputs": [
    {
     "name": "stdout",
     "output_type": "stream",
     "text": [
      "sin rastro del asteroide\n"
     ]
    }
   ],
   "source": [
    "## \n",
    "velocidad_asteroide = 19\n",
    "tamaño_asteroide = 50\n",
    "tamaño_seguro =25\n",
    "velocidad_segura = 25\n",
    "produce_luz = 20\n",
    "\n",
    "if velocidad_asteroide > velocidad_segura and tamaño_asteroide > tamaño_seguro and velocidad_asteroide >= produce_luz:\n",
    "    print('cuidado el asteroide viene muy rápido y es muy grande, tiene luz')\n",
    "elif velocidad_asteroide >= produce_luz:\n",
    "    print('tranquilos solo produce luz')\n",
    "elif velocidad_asteroide < produce_luz:\n",
    "    print('sin rastro del asteroide')"
   ]
  }
 ],
 "metadata": {
  "interpreter": {
   "hash": "f986549fd88128ea9bd7534bf159cbf2f86de827b333aae9b4987b46538842bd"
  },
  "kernelspec": {
   "display_name": "Python 3.10.2 64-bit",
   "language": "python",
   "name": "python3"
  },
  "language_info": {
   "codemirror_mode": {
    "name": "ipython",
    "version": 3
   },
   "file_extension": ".py",
   "mimetype": "text/x-python",
   "name": "python",
   "nbconvert_exporter": "python",
   "pygments_lexer": "ipython3",
   "version": "3.10.2"
  },
  "orig_nbformat": 4
 },
 "nbformat": 4,
 "nbformat_minor": 2
}
